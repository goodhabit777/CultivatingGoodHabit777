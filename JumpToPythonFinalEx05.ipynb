{
  "nbformat": 4,
  "nbformat_minor": 0,
  "metadata": {
    "colab": {
      "name": "Untitled8.ipynb",
      "provenance": [],
      "authorship_tag": "ABX9TyNGORIfVTa5ieT9NBzeLQcS",
      "include_colab_link": true
    },
    "kernelspec": {
      "name": "python3",
      "display_name": "Python 3"
    }
  },
  "cells": [
    {
      "cell_type": "markdown",
      "metadata": {
        "id": "view-in-github",
        "colab_type": "text"
      },
      "source": [
        "<a href=\"https://colab.research.google.com/github/goodhabit777/CultivatingGoodHabit777/blob/main/JumpToPythonFinalEx05.ipynb\" target=\"_parent\"><img src=\"https://colab.research.google.com/assets/colab-badge.svg\" alt=\"Open In Colab\"/></a>"
      ]
    },
    {
      "cell_type": "code",
      "metadata": {
        "colab": {
          "base_uri": "https://localhost:8080/"
        },
        "id": "tavSlKxLXvYF",
        "outputId": "f52b53e5-c040-42b2-c407-7211e82ec2d4"
      },
      "source": [
        "def fib(n):\r\n",
        "  if n == 0: return 0\r\n",
        "  if n == 1: return 1\r\n",
        "  return fib(n-2) + fib(n-1)\r\n",
        "\r\n",
        "\r\n",
        "for i in range(10):\r\n",
        "  print(fib(i))"
      ],
      "execution_count": 1,
      "outputs": [
        {
          "output_type": "stream",
          "text": [
            "0\n",
            "1\n",
            "1\n",
            "2\n",
            "3\n",
            "5\n",
            "8\n",
            "13\n",
            "21\n",
            "34\n"
          ],
          "name": "stdout"
        }
      ]
    }
  ]
}