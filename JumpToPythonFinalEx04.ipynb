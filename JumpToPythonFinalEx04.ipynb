{
  "nbformat": 4,
  "nbformat_minor": 0,
  "metadata": {
    "colab": {
      "name": "Untitled9.ipynb",
      "provenance": [],
      "authorship_tag": "ABX9TyNx1ZXAULsSrGinZYj8rsfr",
      "include_colab_link": true
    },
    "kernelspec": {
      "name": "python3",
      "display_name": "Python 3"
    }
  },
  "cells": [
    {
      "cell_type": "markdown",
      "metadata": {
        "id": "view-in-github",
        "colab_type": "text"
      },
      "source": [
        "<a href=\"https://colab.research.google.com/github/goodhabit777/CultivatingGoodHabit777/blob/main/JumpToPythonFinalEx04.ipynb\" target=\"_parent\"><img src=\"https://colab.research.google.com/assets/colab-badge.svg\" alt=\"Open In Colab\"/></a>"
      ]
    },
    {
      "cell_type": "code",
      "metadata": {
        "colab": {
          "base_uri": "https://localhost:8080/"
        },
        "id": "A6cvwLGpaVAj",
        "outputId": "0ea296ff-0a97-4911-fbfc-0313757a9e5e"
      },
      "source": [
        "a = [20, 55, 67, 82, 45, 33, 90, 87, 100, 25]\r\n",
        "b = []\r\n",
        "for i in a:\r\n",
        "  if i > 50:\r\n",
        "    b.append(i)\r\n",
        "\r\n",
        "c = sum(b)\r\n",
        "d = sum(b) / len(b)\r\n",
        "\r\n",
        "print(d)\r\n",
        "print(c)\r\n",
        "print(len(b))"
      ],
      "execution_count": 1,
      "outputs": [
        {
          "output_type": "stream",
          "text": [
            "80.16666666666667\n",
            "481\n",
            "6\n"
          ],
          "name": "stdout"
        }
      ]
    }
  ]
}