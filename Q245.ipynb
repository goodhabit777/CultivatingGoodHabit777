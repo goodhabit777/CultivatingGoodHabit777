{
  "nbformat": 4,
  "nbformat_minor": 0,
  "metadata": {
    "colab": {
      "name": "Untitled7.ipynb",
      "provenance": [],
      "authorship_tag": "ABX9TyNiUOtWD+gcKBcgDDmSa7XB",
      "include_colab_link": true
    },
    "kernelspec": {
      "name": "python3",
      "display_name": "Python 3"
    }
  },
  "cells": [
    {
      "cell_type": "markdown",
      "metadata": {
        "id": "view-in-github",
        "colab_type": "text"
      },
      "source": [
        "<a href=\"https://colab.research.google.com/github/goodhabit777/CultivatingGoodHabit777/blob/main/Q245.ipynb\" target=\"_parent\"><img src=\"https://colab.research.google.com/assets/colab-badge.svg\" alt=\"Open In Colab\"/></a>"
      ]
    },
    {
      "cell_type": "code",
      "metadata": {
        "colab": {
          "base_uri": "https://localhost:8080/"
        },
        "id": "ALNGGxuCZpPE",
        "outputId": "ee8a3b5d-81e4-4d15-b6e0-cde771595539"
      },
      "source": [
        "n = int(input('Enter the number: '))\r\n",
        "array = [[0] * n for i in range(n)]\r\n",
        "k = 1\r\n",
        "for i in range(n):\r\n",
        "  if i % 2 == 0:\r\n",
        "    for j in range(n):\r\n",
        "      array[j][i] = k\r\n",
        "      k += 1\r\n",
        "  else:\r\n",
        "    for j in range(n-1, -1, -1):\r\n",
        "      array[j][i] = k\r\n",
        "      k += 1\r\n",
        "\r\n",
        "def printarray(object) :\r\n",
        "  for i in range(len(object)):\r\n",
        "    for j in range(len(object[0])):\r\n",
        "      print('%5d' %object[i][j], end = '')\r\n",
        "    print()\r\n",
        "\r\n",
        "printarray(array)"
      ],
      "execution_count": 7,
      "outputs": [
        {
          "output_type": "stream",
          "text": [
            "Enter the number: 2\n",
            "    1    4\n",
            "    2    3\n"
          ],
          "name": "stdout"
        }
      ]
    }
  ]
}