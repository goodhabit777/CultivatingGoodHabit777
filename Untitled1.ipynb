{
  "nbformat": 4,
  "nbformat_minor": 0,
  "metadata": {
    "colab": {
      "name": "Untitled1.ipynb",
      "provenance": [],
      "authorship_tag": "ABX9TyNgiLEHsCVyM7HKj/yGXvpX",
      "include_colab_link": true
    },
    "kernelspec": {
      "name": "python3",
      "display_name": "Python 3"
    }
  },
  "cells": [
    {
      "cell_type": "markdown",
      "metadata": {
        "id": "view-in-github",
        "colab_type": "text"
      },
      "source": [
        "<a href=\"https://colab.research.google.com/github/goodhabit777/CultivatingGoodHabit777/blob/main/Untitled1.ipynb\" target=\"_parent\"><img src=\"https://colab.research.google.com/assets/colab-badge.svg\" alt=\"Open In Colab\"/></a>"
      ]
    },
    {
      "cell_type": "code",
      "metadata": {
        "colab": {
          "base_uri": "https://localhost:8080/"
        },
        "id": "Ie3zMEvNKK-Z",
        "outputId": "a3f2cc85-6d74-4552-b9d4-53e9af4045a1"
      },
      "source": [
        "numbers = input('숙제를 제출한 출석번호: ')\r\n",
        "numlist = numbers.split(' ')\r\n",
        "stnum = [1] * 20\r\n",
        "\r\n",
        "for i in range(20):\r\n",
        "  for j in range(len(numlist)):\r\n",
        "    if i + 1 == int(numlist[j]):\r\n",
        "      stnum[i] = 0\r\n",
        "\r\n",
        "for i in range(20):\r\n",
        "  if stnum[i] == 1:\r\n",
        "    print(i + 1, end= ' ')"
      ],
      "execution_count": 6,
      "outputs": [
        {
          "output_type": "stream",
          "text": [
            "숙제를 제출한 출석번호: 1 4 5 7\n",
            "2 3 6 8 9 10 11 12 13 14 15 16 17 18 19 20 "
          ],
          "name": "stdout"
        }
      ]
    }
  ]
}