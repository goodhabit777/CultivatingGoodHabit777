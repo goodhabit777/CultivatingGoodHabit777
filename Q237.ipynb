{
  "nbformat": 4,
  "nbformat_minor": 0,
  "metadata": {
    "colab": {
      "name": "Untitled2.ipynb",
      "provenance": [],
      "authorship_tag": "ABX9TyOYnv1rEVvyjfpFLq9I1nAA",
      "include_colab_link": true
    },
    "kernelspec": {
      "name": "python3",
      "display_name": "Python 3"
    }
  },
  "cells": [
    {
      "cell_type": "markdown",
      "metadata": {
        "id": "view-in-github",
        "colab_type": "text"
      },
      "source": [
        "<a href=\"https://colab.research.google.com/github/goodhabit777/CultivatingGoodHabit777/blob/main/Q237.ipynb\" target=\"_parent\"><img src=\"https://colab.research.google.com/assets/colab-badge.svg\" alt=\"Open In Colab\"/></a>"
      ]
    },
    {
      "cell_type": "code",
      "metadata": {
        "colab": {
          "base_uri": "https://localhost:8080/"
        },
        "id": "lUfSDhG2Y_ED",
        "outputId": "6187af71-f5a2-4f29-8be2-9381a9425e94"
      },
      "source": [
        "mystr = input('Enter the sentence : ').split(' ')\r\n",
        "for i in range(len(mystr)):\r\n",
        "  print('{}. {}'.format(i+1, mystr[i]))"
      ],
      "execution_count": 2,
      "outputs": [
        {
          "output_type": "stream",
          "text": [
            "Enter the sentence : qwe qwe qwe qwe\n",
            "1. qwe\n",
            "2. qwe\n",
            "3. qwe\n",
            "4. qwe\n"
          ],
          "name": "stdout"
        }
      ]
    }
  ]
}