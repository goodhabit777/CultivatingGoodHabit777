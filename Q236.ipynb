{
  "nbformat": 4,
  "nbformat_minor": 0,
  "metadata": {
    "colab": {
      "name": "Untitled5.ipynb",
      "provenance": [],
      "authorship_tag": "ABX9TyOjTqw90G+MMYPD6CoQ1/0D",
      "include_colab_link": true
    },
    "kernelspec": {
      "name": "python3",
      "display_name": "Python 3"
    }
  },
  "cells": [
    {
      "cell_type": "markdown",
      "metadata": {
        "id": "view-in-github",
        "colab_type": "text"
      },
      "source": [
        "<a href=\"https://colab.research.google.com/github/goodhabit777/CultivatingGoodHabit777/blob/main/Q236.ipynb\" target=\"_parent\"><img src=\"https://colab.research.google.com/assets/colab-badge.svg\" alt=\"Open In Colab\"/></a>"
      ]
    },
    {
      "cell_type": "code",
      "metadata": {
        "colab": {
          "base_uri": "https://localhost:8080/"
        },
        "id": "sP7kB2D-X8CU",
        "outputId": "0dfe656a-fc0c-4dc2-d61c-538fa779367f"
      },
      "source": [
        "def print_arr(arr):\r\n",
        "  for i in range(len(arr)):\r\n",
        "    for j in range(len(arr[i])):\r\n",
        "      print('%2d' %arr[i][j], end = ' ')\r\n",
        "    print()\r\n",
        "\r\n",
        "def mul_array(arr1,arr2):\r\n",
        "  arr = [[0]*3 for i in range(3)]\r\n",
        "  for i in range(3):\r\n",
        "    for j in range(3):\r\n",
        "      arr[i][j] = arr1[i][j]*arr2[i][j]\r\n",
        "  return arr\r\n",
        "\r\n",
        "arr1 = [[3,6,9], [8,5,2], [1,7,4]]\r\n",
        "arr2 = [[9,8,7], [6,5,4], [3,2,1]]\r\n",
        "print_arr(mul_array(arr1,arr2))"
      ],
      "execution_count": 2,
      "outputs": [
        {
          "output_type": "stream",
          "text": [
            "27 48 63 \n",
            "48 25  8 \n",
            " 3 14  4 \n"
          ],
          "name": "stdout"
        }
      ]
    },
    {
      "cell_type": "code",
      "metadata": {
        "id": "eurFAbDtYMbu"
      },
      "source": [
        ""
      ],
      "execution_count": null,
      "outputs": []
    }
  ]
}