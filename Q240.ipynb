{
  "nbformat": 4,
  "nbformat_minor": 0,
  "metadata": {
    "colab": {
      "name": "Untitled6.ipynb",
      "provenance": [],
      "authorship_tag": "ABX9TyPLjAcdcX03tnbF87QDetGh",
      "include_colab_link": true
    },
    "kernelspec": {
      "name": "python3",
      "display_name": "Python 3"
    }
  },
  "cells": [
    {
      "cell_type": "markdown",
      "metadata": {
        "id": "view-in-github",
        "colab_type": "text"
      },
      "source": [
        "<a href=\"https://colab.research.google.com/github/goodhabit777/CultivatingGoodHabit777/blob/main/Q240.ipynb\" target=\"_parent\"><img src=\"https://colab.research.google.com/assets/colab-badge.svg\" alt=\"Open In Colab\"/></a>"
      ]
    },
    {
      "cell_type": "code",
      "metadata": {
        "colab": {
          "base_uri": "https://localhost:8080/"
        },
        "id": "FaQzINFBO4jE",
        "outputId": "d7675415-3d88-4fed-a92b-28e470a0d893"
      },
      "source": [
        "numbers = input('Enter the numbers: ')\r\n",
        "numlist = numbers.split(' ')\r\n",
        "\r\n",
        "for i in range(len(numlist)):\r\n",
        "  numlist[i] = int(numlist[i])\r\n",
        "\r\n",
        "for i in range(1, 11):\r\n",
        "  num = 0\r\n",
        "  for j in range(len(numlist)):\r\n",
        "    if numlist[j] == i :\r\n",
        "      num += 1\r\n",
        "\r\n",
        "  print(i, '의 개수: ', num )"
      ],
      "execution_count": 2,
      "outputs": [
        {
          "output_type": "stream",
          "text": [
            "Enter the numbers: 1 1 1 1 1 1 13 3 3 3 3 33 7 7 7 77 7 7 8 8 3 3 2 4 5 8 9 7 6 5\n",
            "1 의 개수:  6\n",
            "2 의 개수:  1\n",
            "3 의 개수:  6\n",
            "4 의 개수:  1\n",
            "5 의 개수:  2\n",
            "6 의 개수:  1\n",
            "7 의 개수:  6\n",
            "8 의 개수:  3\n",
            "9 의 개수:  1\n",
            "10 의 개수:  0\n"
          ],
          "name": "stdout"
        }
      ]
    }
  ]
}