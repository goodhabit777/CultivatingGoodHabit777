{
  "nbformat": 4,
  "nbformat_minor": 0,
  "metadata": {
    "colab": {
      "name": "Untitled15.ipynb",
      "provenance": [],
      "authorship_tag": "ABX9TyPX6MIy7c6iEp4750mcHJy2",
      "include_colab_link": true
    },
    "kernelspec": {
      "name": "python3",
      "display_name": "Python 3"
    }
  },
  "cells": [
    {
      "cell_type": "markdown",
      "metadata": {
        "id": "view-in-github",
        "colab_type": "text"
      },
      "source": [
        "<a href=\"https://colab.research.google.com/github/goodhabit777/CultivatingGoodHabit777/blob/main/JTPFEQ15.ipynb\" target=\"_parent\"><img src=\"https://colab.research.google.com/assets/colab-badge.svg\" alt=\"Open In Colab\"/></a>"
      ]
    },
    {
      "cell_type": "code",
      "metadata": {
        "colab": {
          "base_uri": "https://localhost:8080/"
        },
        "id": "4Ent358Ngs14",
        "outputId": "43c46edf-e311-42a1-91b3-ec9016516523"
      },
      "source": [
        "def chkDupNum(s):\r\n",
        "  result = []\r\n",
        "  for num in s:\r\n",
        "    if num not in result:\r\n",
        "      result.append(num)\r\n",
        "    else:\r\n",
        "      return False\r\n",
        "  return len(result) == 10\r\n",
        "\r\n",
        "print(chkDupNum(\"0123456789\"))      # True 리턴\r\n",
        "print(chkDupNum(\"01234\"))           # False 리턴\r\n",
        "print(chkDupNum(\"01234567890\"))     # False 리턴\r\n",
        "print(chkDupNum(\"6789012345\"))      # True 리턴\r\n",
        "print(chkDupNum(\"012322456789\"))    # False 리턴"
      ],
      "execution_count": 3,
      "outputs": [
        {
          "output_type": "stream",
          "text": [
            "True\n",
            "False\n",
            "False\n",
            "True\n",
            "False\n"
          ],
          "name": "stdout"
        }
      ]
    }
  ]
}