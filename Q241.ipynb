{
  "nbformat": 4,
  "nbformat_minor": 0,
  "metadata": {
    "colab": {
      "name": "Untitled3.ipynb",
      "provenance": [],
      "authorship_tag": "ABX9TyNmN4gFwp2nJu0eEfn1UJxS",
      "include_colab_link": true
    },
    "kernelspec": {
      "name": "python3",
      "display_name": "Python 3"
    }
  },
  "cells": [
    {
      "cell_type": "markdown",
      "metadata": {
        "id": "view-in-github",
        "colab_type": "text"
      },
      "source": [
        "<a href=\"https://colab.research.google.com/github/goodhabit777/CultivatingGoodHabit777/blob/main/Q241.ipynb\" target=\"_parent\"><img src=\"https://colab.research.google.com/assets/colab-badge.svg\" alt=\"Open In Colab\"/></a>"
      ]
    },
    {
      "cell_type": "code",
      "metadata": {
        "colab": {
          "base_uri": "https://localhost:8080/"
        },
        "id": "DW9lzVUoRsf5",
        "outputId": "0d69a73a-cdbc-4127-b10a-d8c597a4a585"
      },
      "source": [
        "str1 = input('Enter: ')\r\n",
        "str2 = input('Enter: ')\r\n",
        "\r\n",
        "def IsSame(str1, str2):\r\n",
        "  list1 = list(str1)\r\n",
        "  list2 = list(str2)\r\n",
        "  list1.sort()\r\n",
        "  list2.sort()\r\n",
        "  for i in range(min(len(list1), len(list2))):\r\n",
        "    if list1[i] != list2[i]:\r\n",
        "      return False\r\n",
        "    \r\n",
        "  return True\r\n",
        "\r\n",
        "print(IsSame(str1, str2))\r\n"
      ],
      "execution_count": 4,
      "outputs": [
        {
          "output_type": "stream",
          "text": [
            "Enter: grape\n",
            "Enter: eparg\n",
            "True\n"
          ],
          "name": "stdout"
        }
      ]
    }
  ]
}