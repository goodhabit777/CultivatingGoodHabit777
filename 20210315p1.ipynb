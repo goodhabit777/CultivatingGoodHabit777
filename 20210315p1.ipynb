{
  "nbformat": 4,
  "nbformat_minor": 0,
  "metadata": {
    "colab": {
      "name": "Untitled16.ipynb",
      "provenance": [],
      "authorship_tag": "ABX9TyOkiCKUU62ZclkGVSY77ZfK",
      "include_colab_link": true
    },
    "kernelspec": {
      "name": "python3",
      "display_name": "Python 3"
    }
  },
  "cells": [
    {
      "cell_type": "markdown",
      "metadata": {
        "id": "view-in-github",
        "colab_type": "text"
      },
      "source": [
        "<a href=\"https://colab.research.google.com/github/goodhabit777/CultivatingGoodHabit777/blob/main/20210315p1.ipynb\" target=\"_parent\"><img src=\"https://colab.research.google.com/assets/colab-badge.svg\" alt=\"Open In Colab\"/></a>"
      ]
    },
    {
      "cell_type": "code",
      "metadata": {
        "colab": {
          "base_uri": "https://localhost:8080/"
        },
        "id": "Xizs1hqyKfTJ",
        "outputId": "397e35b9-4640-49be-d086-69c568e31918"
      },
      "source": [
        "data = '''\r\n",
        "park 800905-1049118\r\n",
        "kim 700905-1059119\r\n",
        "'''\r\n",
        "\r\n",
        "result = []\r\n",
        "for line in data.split(\"\\n\"):\r\n",
        "  word_result = []\r\n",
        "  for word in line.split(\" \"):\r\n",
        "    if len(word) == 14 and word[:6].isdigit() and word[7:].isdigit():\r\n",
        "      word = word[:6] + \"-\" + \"*******\"\r\n",
        "    word_result.append(word)\r\n",
        "  result.append(\" \".join(word_result))\r\n",
        "\r\n",
        "print(\"\\n\".join(word_result))\r\n",
        "print(word_result)\r\n",
        "print('\\n'.join(result))"
      ],
      "execution_count": 2,
      "outputs": [
        {
          "output_type": "stream",
          "text": [
            "\n",
            "['']\n",
            "\n",
            "park 800905-*******\n",
            "kim 700905-*******\n",
            "\n"
          ],
          "name": "stdout"
        }
      ]
    }
  ]
}